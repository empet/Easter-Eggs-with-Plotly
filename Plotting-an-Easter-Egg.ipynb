{
 "cells": [
  {
   "cell_type": "markdown",
   "metadata": {},
   "source": [
    "## Plotting an Easter Egg with Plotly"
   ]
  },
  {
   "cell_type": "code",
   "execution_count": null,
   "metadata": {},
   "outputs": [],
   "source": [
    "import numpy as np\n",
    "from numpy import pi, cos, sin\n",
    "import plotly.graph_objects as go"
   ]
  },
  {
   "cell_type": "markdown",
   "metadata": {},
   "source": [
    "Parameterize the egg as a deformed ellipsoid of rotation:"
   ]
  },
  {
   "cell_type": "code",
   "execution_count": null,
   "metadata": {},
   "outputs": [],
   "source": [
    "a = 0.2\n",
    "b = 1.55\n",
    "Nu = 1000\n",
    "Nv = 500\n",
    "u = np.linspace(0, 2*pi, Nu)\n",
    "v = np.linspace(0, pi, Nv)\n",
    "u, v = np.meshgrid(u,v)\n",
    "x = (1+a*v) * cos(u) * sin(v)\n",
    "y = (1+a*v) * sin(u) * sin(v)\n",
    "z = b * cos(v)\n",
    "u.shape"
   ]
  },
  {
   "cell_type": "markdown",
   "metadata": {},
   "source": [
    "Paint the egg with a Julia set. For more details on this set, see: [https://nbviewer.jupyter.org/github/empet/Math/blob/master/Julia-set.ipynb](https://nbviewer.jupyter.org/github/empet/Math/blob/master/Julia-set.ipynb)."
   ]
  },
  {
   "cell_type": "code",
   "execution_count": null,
   "metadata": {},
   "outputs": [],
   "source": [
    "def   Julia(z, c, miter=80): # miter, maximum number of allowed iterations \n",
    "    for n in range(miter):\n",
    "        if  abs(z) > 2:\n",
    "            return n\n",
    "        z = z*z + c    \n",
    "    return miter"
   ]
  },
  {
   "cell_type": "markdown",
   "metadata": {},
   "source": [
    "Define a rectangular region in the complex plane to generate a Julia set:"
   ]
  },
  {
   "cell_type": "code",
   "execution_count": null,
   "metadata": {},
   "outputs": [],
   "source": [
    "X = np.linspace(-1.5, 1.5, Nu)\n",
    "Y = np.linspace(-1.5, 1.5, Nv)\n",
    "X, Y = np.meshgrid(X,Y)\n",
    "Z =  X+1j*Y"
   ]
  },
  {
   "cell_type": "code",
   "execution_count": null,
   "metadata": {},
   "outputs": [],
   "source": [
    "Z.shape"
   ]
  },
  {
   "cell_type": "markdown",
   "metadata": {},
   "source": [
    "A few pairs, (complex constant,colorscale), to define the egg painting:"
   ]
  },
  {
   "cell_type": "code",
   "execution_count": null,
   "metadata": {},
   "outputs": [],
   "source": [
    "cubehelix = [[0.0, '#19140e'],\n",
    "             [0.1, '#19142f'],\n",
    "             [0.2, '#153c4d'],\n",
    "             [0.3, '#1e6542'],\n",
    "             [0.4, '#53792e'],\n",
    "             [0.5, '#a1794a'],\n",
    "             [0.6, '#cf7e92'],\n",
    "             [0.7, '#cf9dda'],\n",
    "             [0.8, '#c1caf3'],\n",
    "             [0.9, '#d2eeee'],\n",
    "             [1.0, '#ffffff']]\n",
    " \n",
    "acton = [[0.0, 'rgb(46, 33,77)'], #from Scientific colormaps\n",
    "         [0.1, 'rgb(72, 56, 100)'],\n",
    "         [0.2, 'rgb(102, 80, 123)'],\n",
    "         [0.3, 'rgb(135, 96, 141)'],\n",
    "         [0.4, 'rgb(166, 102, 148)'],\n",
    "         [0.5, 'rgb(196, 110, 155)'],\n",
    "         [0.6, 'rgb(212, 134, 173)'],\n",
    "         [0.7, 'rgb(212, 156, 189)'],\n",
    "         [0.8, 'rgb(213, 178, 205)'],\n",
    "         [0.9, 'rgb(220, 204, 222)'],\n",
    "         [1.0, 'rgb(230, 230, 240)']]"
   ]
  },
  {
   "cell_type": "code",
   "execution_count": null,
   "metadata": {},
   "outputs": [],
   "source": [
    "pair =  [(-0.04 - 0.6841j, 'RdGy'),\n",
    "         (-0.8 + 0.1561j, cubehelix),\n",
    "         (-0.4 + 0.61j, 'speed_r'),\n",
    "         (-0.04 - 0.6681j , 'curl_r'),\n",
    "         (-0.70176 - 0.38421j, acton),\n",
    "         (-0.4 + -0.591j, 'Plasma'),\n",
    "         (0.355534 - 0.3372921j,'Jet_r'),\n",
    "         (0.37 + 0.11j, 'RdGy'),\n",
    "         (0 + 0.81j, 'BuPu'),\n",
    "         (0.355 + 0.3551j,'PiYG')]"
   ]
  },
  {
   "cell_type": "markdown",
   "metadata": {},
   "source": [
    "To get one of the 10 paintings modify the pair index below:"
   ]
  },
  {
   "cell_type": "code",
   "execution_count": null,
   "metadata": {},
   "outputs": [],
   "source": [
    "c, clrsc = pair[0] # c=constant  for the complex function, f(z)=z**2+c, to be iterated\n",
    "\n",
    "egg_painting = np.array([Julia (Z[i,j], c)    for i in range(Nv)    for j in range(Nu)]).reshape(Nv, Nu)\n",
    "egg_painting.shape"
   ]
  },
  {
   "cell_type": "code",
   "execution_count": null,
   "metadata": {},
   "outputs": [],
   "source": [
    "fig = go.Figure(go.Surface( \n",
    "                    x=x, \n",
    "                    y=y, \n",
    "                    z=z, \n",
    "                    colorscale=clrsc, \n",
    "                    surfacecolor=egg_painting, \n",
    "                    showscale=False))"
   ]
  },
  {
   "cell_type": "code",
   "execution_count": null,
   "metadata": {},
   "outputs": [],
   "source": [
    "fig.update_layout(title_text=  'Easter Egg',\n",
    "                  title_x=0.5,\n",
    "                  font_family='Balto', font_size=18,\n",
    "                  width=800,\n",
    "                  height=800,\n",
    "                  scene=dict(camera_eye=dict(x=-1.5, y=-0.8, z=1),\n",
    "                              aspectratio=dict(x=0.8, y=0.8, z=1), \n",
    "                              xaxis_visible=False,\n",
    "                              yaxis_visible=False, \n",
    "                              zaxis_visible=False),\n",
    "                   margin_t=200, paper_bgcolor='rgba(0, 0, 0, 0.25)');#for eggs with light color change the alpha to 0.95\n",
    "fig.show('browser')                  "
   ]
  },
  {
   "cell_type": "markdown",
   "metadata": {},
   "source": [
    "Display the egg painted with the reversed colorscale:"
   ]
  },
  {
   "cell_type": "code",
   "execution_count": null,
   "metadata": {},
   "outputs": [],
   "source": [
    "fig.update_traces(reversescale=True);\n",
    "fig.show('browser')"
   ]
  },
  {
   "cell_type": "code",
   "execution_count": 1,
   "metadata": {},
   "outputs": [
    {
     "data": {
      "text/html": [
       "<img src=\"https://raw.githubusercontent.com/empet/Easter-Eggs-with-Plotly/master/Easter-eggs.jpg\"/>"
      ],
      "text/plain": [
       "<IPython.core.display.Image object>"
      ]
     },
     "execution_count": 1,
     "metadata": {},
     "output_type": "execute_result"
    }
   ],
   "source": [
    "from IPython.display import Image\n",
    "Image(url='https://raw.githubusercontent.com/empet/Easter-Eggs-with-Plotly/master/Easter-eggs.jpg')"
   ]
  },
  {
   "cell_type": "code",
   "execution_count": null,
   "metadata": {},
   "outputs": [],
   "source": []
  }
 ],
 "metadata": {
  "@webio": {
   "lastCommId": null,
   "lastKernelId": null
  },
  "kernelspec": {
   "display_name": "Python 3",
   "language": "python",
   "name": "python3"
  },
  "language_info": {
   "codemirror_mode": {
    "name": "ipython",
    "version": 3
   },
   "file_extension": ".py",
   "mimetype": "text/x-python",
   "name": "python",
   "nbconvert_exporter": "python",
   "pygments_lexer": "ipython3",
   "version": "3.8.6"
  }
 },
 "nbformat": 4,
 "nbformat_minor": 2
}
